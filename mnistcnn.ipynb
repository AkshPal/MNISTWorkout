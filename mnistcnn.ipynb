{
 "cells": [
  {
   "cell_type": "code",
   "execution_count": 33,
   "id": "8ccb8eea",
   "metadata": {},
   "outputs": [],
   "source": [
    "import torch\n",
    "import torch.nn as nn\n",
    "import torchvision.transforms as transforms\n",
    "import torchvision.datasets as datasets"
   ]
  },
  {
   "cell_type": "code",
   "execution_count": 34,
   "id": "bab8486f",
   "metadata": {},
   "outputs": [],
   "source": [
    "mean_gray = 0.1307\n",
    "stddev_gray = 0.3081\n",
    "\n",
    "#input[channel] = (input[chanel]-mean[chanel])/std[chanel]\n",
    "\n",
    "transforms = transforms.Compose([transforms.ToTensor(),\n",
    "                                transforms.Normalize((mean_gray,),(stddev_gray))])\n",
    "\n",
    "train_dataset = datasets.MNIST(root='./data',train = True,transform = transforms,download = True)\n",
    "test_dataset = datasets.MNIST(root='./data',train = False,transform = transforms)\n"
   ]
  },
  {
   "cell_type": "code",
   "execution_count": 35,
   "id": "43e6fe4a",
   "metadata": {},
   "outputs": [
    {
     "data": {
      "text/plain": [
       "Dataset MNIST\n",
       "    Number of datapoints: 60000\n",
       "    Root location: ./data\n",
       "    Split: Train\n",
       "    StandardTransform\n",
       "Transform: Compose(\n",
       "               ToTensor()\n",
       "               Normalize(mean=(0.1307,), std=0.3081)\n",
       "           )"
      ]
     },
     "execution_count": 35,
     "metadata": {},
     "output_type": "execute_result"
    }
   ],
   "source": [
    "train_dataset"
   ]
  },
  {
   "cell_type": "code",
   "execution_count": 36,
   "id": "af882a8f",
   "metadata": {},
   "outputs": [
    {
     "data": {
      "text/plain": [
       "Dataset MNIST\n",
       "    Number of datapoints: 10000\n",
       "    Root location: ./data\n",
       "    Split: Test\n",
       "    StandardTransform\n",
       "Transform: Compose(\n",
       "               ToTensor()\n",
       "               Normalize(mean=(0.1307,), std=0.3081)\n",
       "           )"
      ]
     },
     "execution_count": 36,
     "metadata": {},
     "output_type": "execute_result"
    }
   ],
   "source": [
    "test_dataset"
   ]
  },
  {
   "cell_type": "code",
   "execution_count": 37,
   "id": "af7b2c4c",
   "metadata": {},
   "outputs": [
    {
     "data": {
      "text/plain": [
       "<matplotlib.image.AxesImage at 0x2947d35e680>"
      ]
     },
     "execution_count": 37,
     "metadata": {},
     "output_type": "execute_result"
    },
    {
     "data": {
      "image/png": "[encoded data removed]",
      "text/plain": [
       "<Figure size 640x480 with 1 Axes>"
      ]
     },
     "metadata": {},
     "output_type": "display_data"
    }
   ],
   "source": [
    "import matplotlib.pyplot as plt\n",
    "random_img = train_dataset[20][0].numpy()*stddev_gray+mean_gray\n",
    "plt.imshow(random_img.reshape(28,28),cmap = 'gray')"
   ]
  },
  {
   "cell_type": "code",
   "execution_count": 38,
   "id": "b8fb5bf8",
   "metadata": {},
   "outputs": [
    {
     "data": {
      "text/plain": [
       "4"
      ]
     },
     "execution_count": 38,
     "metadata": {},
     "output_type": "execute_result"
    }
   ],
   "source": [
    "train_dataset[20][1]"
   ]
  },
  {
   "cell_type": "code",
   "execution_count": 39,
   "id": "77c3f056",
   "metadata": {},
   "outputs": [],
   "source": [
    "#data loader\n",
    "batch_size = 100\n",
    "train_load = torch.utils.data.DataLoader(dataset = train_dataset,\n",
    "                                        batch_size = batch_size,\n",
    "                                        shuffle = True)\n",
    "test_load = torch.utils.data.DataLoader(dataset = test_dataset,\n",
    "                                        batch_size = batch_size,\n",
    "                                        shuffle = False)\n",
    "\n",
    "\n"
   ]
  },
  {
   "cell_type": "code",
   "execution_count": 40,
   "id": "31f50832",
   "metadata": {},
   "outputs": [
    {
     "data": {
      "text/plain": [
       "600"
      ]
     },
     "execution_count": 40,
     "metadata": {},
     "output_type": "execute_result"
    }
   ],
   "source": [
    "len(train_load)"
   ]
  },
  {
   "cell_type": "code",
   "execution_count": 41,
   "id": "fe2ba48f",
   "metadata": {},
   "outputs": [],
   "source": [
    "class CNN(nn.Module):\n",
    "    def __init__(self):\n",
    "        super(CNN,self).__init__()\n",
    "        #same padding = filter-1/2\n",
    "        self.cnn1 = nn.Conv2d(in_channels = 1, out_channels = 8, kernel_size = 3, stride = 1,padding = 1)\n",
    "        #output_size of each of 8 feature maps = inputsize-filersize+2*padding/stride  +1 = 28\n",
    "        self.batchnorm1 = nn.BatchNorm2d(8)\n",
    "        self.relu = nn.ReLU()\n",
    "        self.maxpool = nn.MaxPool2d(kernel_size = 2)\n",
    "        #output size = 28/2 = 14\n",
    "        self.cnn2 = nn.Conv2d(in_channels = 8,out_channels = 32, kernel_size = 5,stride = 1, padding = 2)\n",
    "        #output size of each feature (14-5+4)+1 = 14\n",
    "        self.batchnorm2 = nn.BatchNorm2d(32)\n",
    "        #flatten 32 feature map: 7*7*32 = 1568\n",
    "        self.fc1 = nn.Linear(1568,600)\n",
    "        self.dropout = nn.Dropout(p = 0.5)\n",
    "        self.fc2 = nn.Linear(600,10)\n",
    "        \n",
    "    def forward(self,x):\n",
    "        out = self.cnn1(x)\n",
    "        out = self.batchnorm1(out)\n",
    "        out = self.relu(out)\n",
    "        out = self.maxpool(out)\n",
    "        out = self.cnn2(out)\n",
    "        out = self.batchnorm2(out)\n",
    "        out = self.relu(out)\n",
    "        out = self.maxpool(out)\n",
    "        \n",
    "        # flatten the feature maps to feed to fc1(100,1568)\n",
    "        out = out.view(-1,1568)\n",
    "        \n",
    "        \n",
    "        out = self.fc1(out)\n",
    "        out = self.relu(out)\n",
    "        out = self.dropout(out)\n",
    "        out = self.fc2(out)\n",
    "        \n",
    "        return out\n",
    "    \n",
    "        "
   ]
  },
  {
   "cell_type": "code",
   "execution_count": null,
   "id": "3ccea26b",
   "metadata": {},
   "outputs": [],
   "source": []
  },
  {
   "cell_type": "code",
   "execution_count": 42,
   "id": "9f099743",
   "metadata": {},
   "outputs": [],
   "source": [
    "model = CNN()\n",
    "CUDA = torch.cuda.is_available()\n",
    "if CUDA:\n",
    "    model = model.cuda()\n",
    "    \n",
    "loss_fn = nn.CrossEntropyLoss()\n",
    "optimizer = torch.optim.Adam(model.parameters(),lr = 0.01)\n",
    "\n"
   ]
  },
  {
   "cell_type": "code",
   "execution_count": 43,
   "id": "f53f451e",
   "metadata": {},
   "outputs": [
    {
     "name": "stdout",
     "output_type": "stream",
     "text": [
      "input_shape: torch.Size([100, 1, 28, 28])\n",
      "labels_shape torch.Size([100])\n",
      "output_shape torch.Size([100, 10])\n",
      "predicted_shape torch.Size([100])\n"
     ]
    }
   ],
   "source": [
    "#mvement around\n",
    "iteration = 0\n",
    "correct = 0\n",
    "\n",
    "for i,(inputs,labels) in enumerate (train_load):\n",
    "    if CUDA:\n",
    "        inputs = inputs.cuda()\n",
    "        labels = labels.cuda()\n",
    "        \n",
    "    print(\"input_shape:\",inputs.shape)\n",
    "    print(\"labels_shape\",labels.shape)\n",
    "    output = model(inputs)\n",
    "    print(\"output_shape\",output.shape)\n",
    "    _,predicted = torch.max(output,1)\n",
    "    print(\"predicted_shape\",predicted.shape)\n",
    "    break"
   ]
  },
  {
   "cell_type": "code",
   "execution_count": 44,
   "id": "991df383",
   "metadata": {},
   "outputs": [
    {
     "name": "stdout",
     "output_type": "stream",
     "text": [
      "epoch1/10, training loss 0.471, training accuracy 87.967, testing loss 0.057, testing accuracy 98.250\n",
      "epoch2/10, training loss 0.125, training accuracy 96.303, testing loss 0.044, testing accuracy 98.600\n",
      "epoch3/10, training loss 0.090, training accuracy 97.428, testing loss 0.045, testing accuracy 98.740\n",
      "epoch4/10, training loss 0.079, training accuracy 97.753, testing loss 0.038, testing accuracy 98.930\n",
      "epoch5/10, training loss 0.070, training accuracy 97.978, testing loss 0.041, testing accuracy 98.740\n",
      "epoch6/10, training loss 0.063, training accuracy 98.180, testing loss 0.033, testing accuracy 98.950\n",
      "epoch7/10, training loss 0.063, training accuracy 98.175, testing loss 0.037, testing accuracy 98.860\n",
      "epoch8/10, training loss 0.056, training accuracy 98.383, testing loss 0.040, testing accuracy 98.940\n",
      "epoch9/10, training loss 0.056, training accuracy 98.472, testing loss 0.033, testing accuracy 99.000\n",
      "epoch10/10, training loss 0.055, training accuracy 98.430, testing loss 0.036, testing accuracy 99.110\n"
     ]
    }
   ],
   "source": [
    "# training\n",
    "num_epochs = 10\n",
    "train_loss = []\n",
    "train_accuracy = []\n",
    "test_loss = []\n",
    "test_accuracy = []\n",
    "\n",
    "for epoch in range(num_epochs):\n",
    "    correct = 0\n",
    "    iterations = 0\n",
    "    iter_loss = 0.0\n",
    "    \n",
    "    model.train()\n",
    "    \n",
    "    for i,(inputs,labels) in enumerate(train_load):\n",
    "        \n",
    "        if CUDA:\n",
    "            inputs = inputs.cuda()\n",
    "            labels = labels.cuda()\n",
    "        \n",
    "        outputs = model(inputs)\n",
    "        \n",
    "        loss = loss_fn(outputs,labels)\n",
    "        \n",
    "        iter_loss+=loss.item() #item to extract the value from tensor\n",
    "        \n",
    "        optimizer.zero_grad()  #w<--w-lr*grad\n",
    "        loss.backward()\n",
    "        optimizer.step()\n",
    "        \n",
    "        _,predicted = torch.max(outputs,1)\n",
    "        \n",
    "        correct+=(predicted==labels).sum().item()\n",
    "        \n",
    "        iterations+=1\n",
    "        \n",
    "    \n",
    "    train_loss.append(iter_loss/iterations)\n",
    "    train_accuracy.append(100*correct/len(train_dataset))\n",
    "    \n",
    "    #test phase\n",
    "    testing_loss = 0.0\n",
    "    correct = 0\n",
    "    iterations = 0\n",
    "    \n",
    "    model.eval()\n",
    "    \n",
    "    for i,(inputs,labels) in enumerate(test_load):\n",
    "        \n",
    "        if CUDA:\n",
    "            inputs = inputs.cuda()\n",
    "            labels = labels.cuda()\n",
    "        \n",
    "        outputs = model(inputs)\n",
    "        \n",
    "        loss = loss_fn(outputs,labels)\n",
    "        \n",
    "        testing_loss+=loss.item() #item to extract the value from tensor\n",
    "        \n",
    "        \n",
    "        _,predicted = torch.max(outputs,1)\n",
    "        \n",
    "        correct+=(predicted==labels).sum().item()\n",
    "        \n",
    "        iterations+=1\n",
    "    \n",
    "    \n",
    "    test_loss.append(testing_loss/iterations)\n",
    "    test_accuracy.append(100*correct/len(test_dataset))\n",
    "    \n",
    "    \n",
    "    print(\"epoch{}/{}, training loss {:.3f}, training accuracy {:.3f}, testing loss {:.3f}, testing accuracy {:.3f}\".format(\n",
    "    epoch+1,num_epochs,train_loss[-1],train_accuracy[-1],test_loss[-1],test_accuracy[-1]))\n",
    "        \n",
    "        \n",
    "        \n",
    "        \n",
    "        "
   ]
  },
  {
   "cell_type": "code",
   "execution_count": 45,
   "id": "78217c37",
   "metadata": {},
   "outputs": [
    {
     "data": {
      "image/png": "[encoded data removed]",
      "text/plain": [
       "<Figure size 1000x1000 with 1 Axes>"
      ]
     },
     "metadata": {},
     "output_type": "display_data"
    }
   ],
   "source": [
    "#plot\n",
    "f = plt.figure(figsize = (10,10))\n",
    "plt.plot(train_loss,label = \"train_loss\")\n",
    "plt.plot(test_loss, label = \"test_loss\")\n",
    "plt.legend()\n",
    "plt.show()"
   ]
  },
  {
   "cell_type": "code",
   "execution_count": 46,
   "id": "3c000625",
   "metadata": {},
   "outputs": [],
   "source": [
    "#making predictions\n",
    "\n",
    "import torch\n",
    "torch.save(model.state_dict(),\"model.pth\")\n"
   ]
  },
  {
   "cell_type": "code",
   "execution_count": null,
   "id": "25447e6a",
   "metadata": {},
   "outputs": [],
   "source": []
  }
 ],
 "metadata": {
  "kernelspec": {
   "display_name": "Python 3 (ipykernel)",
   "language": "python",
   "name": "python3"
  },
  "language_info": {
   "codemirror_mode": {
    "name": "ipython",
    "version": 3
   },
   "file_extension": ".py",
   "mimetype": "text/x-python",
   "name": "python",
   "nbconvert_exporter": "python",
   "pygments_lexer": "ipython3",
   "version": "3.10.9"
  }
 },
 "nbformat": 4,
 "nbformat_minor": 5
}
