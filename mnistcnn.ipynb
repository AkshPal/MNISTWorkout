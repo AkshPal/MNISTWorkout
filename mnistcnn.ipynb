{
 "cells": [
  {
   "cell_type": "code",
   "execution_count": 1,
   "id": "8ccb8eea",
   "metadata": {},
   "outputs": [],
   "source": [
    "import torch\n",
    "import torch.nn as nn\n",
    "import torchvision.transforms as transforms\n",
    "import torchvision.datasets as datasets"
   ]
  },
  {
   "cell_type": "code",
   "execution_count": 2,
   "id": "bab8486f",
   "metadata": {},
   "outputs": [],
   "source": [
    "mean_gray = 0.1307\n",
    "stddev_gray = 0.3081\n",
    "\n",
    "#input[channel] = (input[chanel]-mean[chanel])/std[chanel]\n",
    "\n",
    "transforms = transforms.Compose([transforms.ToTensor(),\n",
    "                                transforms.Normalize((mean_gray,),(stddev_gray))])\n",
    "\n",
    "train_dataset = datasets.MNIST(root='./data',train = True,transform = transforms,download = True)\n",
    "test_dataset = datasets.MNIST(root='./data',train = False,transform = transforms)\n"
   ]
  },
  {
   "cell_type": "code",
   "execution_count": 3,
   "id": "43e6fe4a",
   "metadata": {},
   "outputs": [
    {
     "data": {
      "text/plain": [
       "Dataset MNIST\n",
       "    Number of datapoints: 60000\n",
       "    Root location: ./data\n",
       "    Split: Train\n",
       "    StandardTransform\n",
       "Transform: Compose(\n",
       "               ToTensor()\n",
       "               Normalize(mean=(0.1307,), std=0.3081)\n",
       "           )"
      ]
     },
     "execution_count": 3,
     "metadata": {},
     "output_type": "execute_result"
    }
   ],
   "source": [
    "train_dataset"
   ]
  },
  {
   "cell_type": "code",
   "execution_count": 4,
   "id": "af882a8f",
   "metadata": {},
   "outputs": [
    {
     "data": {
      "text/plain": [
       "Dataset MNIST\n",
       "    Number of datapoints: 10000\n",
       "    Root location: ./data\n",
       "    Split: Test\n",
       "    StandardTransform\n",
       "Transform: Compose(\n",
       "               ToTensor()\n",
       "               Normalize(mean=(0.1307,), std=0.3081)\n",
       "           )"
      ]
     },
     "execution_count": 4,
     "metadata": {},
     "output_type": "execute_result"
    }
   ],
   "source": [
    "test_dataset"
   ]
  },
  {
   "cell_type": "code",
   "execution_count": 5,
   "id": "af7b2c4c",
   "metadata": {},
   "outputs": [
    {
     "data": {
      "text/plain": [
       "<matplotlib.image.AxesImage at 0x28a759210f0>"
      ]
     },
     "execution_count": 5,
     "metadata": {},
     "output_type": "execute_result"
    },
    {
     "data": {
      "image/png": "[encoded data removed]",
      "text/plain": [
       "<Figure size 640x480 with 1 Axes>"
      ]
     },
     "metadata": {},
     "output_type": "display_data"
    }
   ],
   "source": [
    "import matplotlib.pyplot as plt\n",
    "random_img = train_dataset[20][0].numpy()*stddev_gray+mean_gray\n",
    "plt.imshow(random_img.reshape(28,28),cmap = 'gray')"
   ]
  },
  {
   "cell_type": "code",
   "execution_count": 6,
   "id": "b8fb5bf8",
   "metadata": {},
   "outputs": [
    {
     "data": {
      "text/plain": [
       "4"
      ]
     },
     "execution_count": 6,
     "metadata": {},
     "output_type": "execute_result"
    }
   ],
   "source": [
    "train_dataset[20][1]"
   ]
  },
  {
   "cell_type": "code",
   "execution_count": 7,
   "id": "77c3f056",
   "metadata": {},
   "outputs": [],
   "source": [
    "#data loader\n",
    "batch_size = 100\n",
    "train_load = torch.utils.data.DataLoader(dataset = train_dataset,\n",
    "                                        batch_size = batch_size,\n",
    "                                        shuffle = True)\n",
    "test_load = torch.utils.data.DataLoader(dataset = test_dataset,\n",
    "                                        batch_size = batch_size,\n",
    "                                        shuffle = False)\n",
    "\n",
    "\n"
   ]
  },
  {
   "cell_type": "code",
   "execution_count": 8,
   "id": "31f50832",
   "metadata": {},
   "outputs": [
    {
     "data": {
      "text/plain": [
       "600"
      ]
     },
     "execution_count": 8,
     "metadata": {},
     "output_type": "execute_result"
    }
   ],
   "source": [
    "len(train_load)"
   ]
  },
  {
   "cell_type": "code",
   "execution_count": 14,
   "id": "fe2ba48f",
   "metadata": {},
   "outputs": [],
   "source": [
    "class CNN(nn.Module):\n",
    "    def __init__(self):\n",
    "        super(CNN,self).__init__()\n",
    "        #same padding = filter-1/2\n",
    "        self.cnn1 = nn.Conv2d(in_channels = 1, out_channels = 8, kernel_size = 3, stride = 1,padding = 1)\n",
    "        #output_size of each of 8 feature maps = inputsize-filersize+2*padding/stride  +1 = 28\n",
    "        self.batchnorm1 = nn.BatchNorm2d(8)\n",
    "        self.relu = nn.ReLU()\n",
    "        self.maxpool = nn.MaxPool2d(kernel_size = 2)\n",
    "        #output size = 28/2 = 14\n",
    "        self.cnn2 = nn.Conv2d(in_channels = 8,out_channels = 32, kernel_size = 5,stride = 1, padding = 2)\n",
    "        #output size of each feature (14-5+4)+1 = 14\n",
    "        self.batchnorm2 = nn.BatchNorm2d(32)\n",
    "        #flatten 32 feature map: 7*7*32 = 1568\n",
    "        self.fc1 = nn.Linear(1568,600)\n",
    "        self.dropout = nn.Dropout(p = 0.5)\n",
    "        self.fc2 = nn.Linear(600,10)\n",
    "        \n",
    "    def forward(self,x):\n",
    "        out = self.cnn1(x)\n",
    "        out = self.batchnorm1(out)\n",
    "        out = self.relu(out)\n",
    "        out = self.maxpool(out)\n",
    "        out = self.cnn2(out)\n",
    "        out = self.batchnorm2(out)\n",
    "        out = self.relu(out)\n",
    "        out = self.maxpool(out)\n",
    "        \n",
    "        # flatten the feature maps to feed to fc1(100,1568)\n",
    "        out = out.view(-1,1568)\n",
    "        \n",
    "        \n",
    "        out = self.fc1(out)\n",
    "        out = self.relu(out)\n",
    "        out = self.dropout(out)\n",
    "        out = self.fc2(out)\n",
    "        \n",
    "        return out\n",
    "    \n",
    "        "
   ]
  },
  {
   "cell_type": "code",
   "execution_count": null,
   "id": "3ccea26b",
   "metadata": {},
   "outputs": [],
   "source": []
  },
  {
   "cell_type": "code",
   "execution_count": 16,
   "id": "9f099743",
   "metadata": {},
   "outputs": [],
   "source": [
    "model = CNN()\n",
    "CUDA = torch.cuda.is_available()\n",
    "if CUDA:\n",
    "    model = model.cuda()\n",
    "    \n",
    "loss_fn = nn.CrossEntropyLoss()\n",
    "optimizer = torch.optim.Adam(model.parameters(),lr = 0.01)\n",
    "\n"
   ]
  },
  {
   "cell_type": "code",
   "execution_count": 19,
   "id": "f53f451e",
   "metadata": {},
   "outputs": [
    {
     "name": "stdout",
     "output_type": "stream",
     "text": [
      "input_shape: torch.Size([100, 1, 28, 28])\n",
      "labels_shape torch.Size([100])\n",
      "output_shape torch.Size([100, 10])\n",
      "predicted_shape torch.Size([100])\n"
     ]
    }
   ],
   "source": [
    "#mvement around\n",
    "iteration = 0\n",
    "correct = 0\n",
    "\n",
    "for i,(inputs,labels) in enumerate (train_load):\n",
    "    if CUDA:\n",
    "        inputs = inputs.cuda()\n",
    "        labels = labels.cuda()\n",
    "        \n",
    "    print(\"input_shape:\",inputs.shape)\n",
    "    print(\"labels_shape\",labels.shape)\n",
    "    output = model(inputs)\n",
    "    print(\"output_shape\",output.shape)\n",
    "    _,predicted = torch.max(output,1)\n",
    "    print(\"predicted_shape\",predicted.shape)\n",
    "    break"
   ]
  },
  {
   "cell_type": "code",
   "execution_count": 24,
   "id": "991df383",
   "metadata": {},
   "outputs": [
    {
     "name": "stdout",
     "output_type": "stream",
     "text": [
      "epoch1/10, training loss 0.086, training accuracy 97.593, testing loss 0.034, testing loss 98.980\n",
      "epoch2/10, training loss 0.071, training accuracy 97.958, testing loss 0.044, testing loss 98.720\n",
      "epoch3/10, training loss 0.062, training accuracy 98.212, testing loss 0.047, testing loss 98.780\n",
      "epoch4/10, training loss 0.061, training accuracy 98.253, testing loss 0.039, testing loss 98.790\n",
      "epoch5/10, training loss 0.055, training accuracy 98.435, testing loss 0.046, testing loss 98.820\n",
      "epoch6/10, training loss 0.053, training accuracy 98.507, testing loss 0.045, testing loss 98.940\n",
      "epoch7/10, training loss 0.053, training accuracy 98.528, testing loss 0.049, testing loss 98.760\n",
      "epoch8/10, training loss 0.053, training accuracy 98.483, testing loss 0.045, testing loss 98.850\n",
      "epoch9/10, training loss 0.048, training accuracy 98.695, testing loss 0.048, testing loss 98.950\n",
      "epoch10/10, training loss 0.043, training accuracy 98.790, testing loss 0.047, testing loss 98.880\n"
     ]
    }
   ],
   "source": [
    "# training\n",
    "num_epochs = 10\n",
    "train_loss = []\n",
    "train_accuracy = []\n",
    "test_loss = []\n",
    "test_accuracy = []\n",
    "\n",
    "for epoch in range(num_epochs):\n",
    "    correct = 0\n",
    "    iterations = 0\n",
    "    iter_loss = 0.0\n",
    "    \n",
    "    model.train()\n",
    "    \n",
    "    for i,(inputs,labels) in enumerate(train_load):\n",
    "        \n",
    "        if CUDA:\n",
    "            inputs = inputs.cuda()\n",
    "            labels = labels.cuda()\n",
    "        \n",
    "        outputs = model(inputs)\n",
    "        \n",
    "        loss = loss_fn(outputs,labels)\n",
    "        \n",
    "        iter_loss+=loss.item() #item to extract the value from tensor\n",
    "        \n",
    "        optimizer.zero_grad()  #w<--w-lr*grad\n",
    "        loss.backward()\n",
    "        optimizer.step()\n",
    "        \n",
    "        _,predicted = torch.max(outputs,1)\n",
    "        \n",
    "        correct+=(predicted==labels).sum().item()\n",
    "        \n",
    "        iterations+=1\n",
    "        \n",
    "    \n",
    "    train_loss.append(iter_loss/iterations)\n",
    "    train_accuracy.append(100*correct/len(train_dataset))\n",
    "    \n",
    "    #test phase\n",
    "    testing_loss = 0.0\n",
    "    correct = 0\n",
    "    iterations = 0\n",
    "    \n",
    "    model.eval()\n",
    "    \n",
    "    for i,(inputs,labels) in enumerate(test_load):\n",
    "        \n",
    "        if CUDA:\n",
    "            inputs = inputs.cuda()\n",
    "            labels = labels.cuda()\n",
    "        \n",
    "        outputs = model(inputs)\n",
    "        \n",
    "        loss = loss_fn(outputs,labels)\n",
    "        \n",
    "        testing_loss+=loss.item() #item to extract the value from tensor\n",
    "        \n",
    "        \n",
    "        _,predicted = torch.max(outputs,1)\n",
    "        \n",
    "        correct+=(predicted==labels).sum().item()\n",
    "        \n",
    "        iterations+=1\n",
    "    \n",
    "    \n",
    "    test_loss.append(testing_loss/iterations)\n",
    "    test_accuracy.append(100*correct/len(test_dataset))\n",
    "    \n",
    "    \n",
    "    print(\"epoch{}/{}, training loss {:.3f}, training accuracy {:.3f}, testing loss {:.3f}, testing accuracy {:.3f}\".format(\n",
    "    epoch+1,num_epochs,train_loss[-1],train_accuracy[-1],test_loss[-1],test_accuracy[-1]))\n",
    "        \n",
    "        \n",
    "        \n",
    "        \n",
    "        "
   ]
  },
  {
   "cell_type": "code",
   "execution_count": 25,
   "id": "78217c37",
   "metadata": {},
   "outputs": [
    {
     "data": {
      "image/png": "[encoded data removed]",
      "text/plain": [
       "<Figure size 1000x1000 with 1 Axes>"
      ]
     },
     "metadata": {},
     "output_type": "display_data"
    }
   ],
   "source": [
    "#plot\n",
    "f = plt.figure(figsize = (10,10))\n",
    "plt.plot(train_loss,label = \"train_loss\")\n",
    "plt.plot(test_loss, label = \"test_loss\")\n",
    "plt.legend()\n",
    "plt.show()"
   ]
  },
  {
   "cell_type": "code",
   "execution_count": 26,
   "id": "3c000625",
   "metadata": {},
   "outputs": [
    {
     "name": "stdout",
     "output_type": "stream",
     "text": [
      "predicted : 3\n",
      "actual is : 3\n"
     ]
    }
   ],
   "source": [
    "#making predictions\n",
    "\n",
    "img = test_dataset[30][0].resize_((1,1,28,28))  #resize(batchsize,chanel,size(pixels))\n",
    "label = test_dataset[30][1]\n",
    "\n",
    "model.eval()\n",
    "\n",
    "if CUDA:\n",
    "    model = model.cuda()\n",
    "    img = img.cuda()\n",
    "    \n",
    "outputs = model(img)\n",
    "_,predicted = torch.max(outputs,1)\n",
    "print(\"predicted : {}\".format(predicted.item()))\n",
    "print(\"actual is : {}\".format(label))"
   ]
  },
  {
   "cell_type": "code",
   "execution_count": null,
   "id": "25447e6a",
   "metadata": {},
   "outputs": [],
   "source": []
  }
 ],
 "metadata": {
  "kernelspec": {
   "display_name": "Python 3 (ipykernel)",
   "language": "python",
   "name": "python3"
  },
  "language_info": {
   "codemirror_mode": {
    "name": "ipython",
    "version": 3
   },
   "file_extension": ".py",
   "mimetype": "text/x-python",
   "name": "python",
   "nbconvert_exporter": "python",
   "pygments_lexer": "ipython3",
   "version": "3.10.9"
  }
 },
 "nbformat": 4,
 "nbformat_minor": 5
}
